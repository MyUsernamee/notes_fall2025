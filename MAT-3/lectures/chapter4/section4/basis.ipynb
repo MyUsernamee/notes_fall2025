{
 "cells": [
  {
   "cell_type": "code",
   "execution_count": 2,
   "id": "2df30cd6-2cf8-4096-b836-9066e9b6835a",
   "metadata": {},
   "outputs": [],
   "source": [
    "from manim import *"
   ]
  },
  {
   "cell_type": "code",
   "execution_count": null,
   "id": "d13c8b1c-4c22-48d8-abd7-495e2638cb8b",
   "metadata": {},
   "outputs": [],
   "source": [
    "class What(Scene):\n",
    "    def construct(self):\n",
    "        "
   ]
  }
 ],
 "metadata": {
  "kernelspec": {
   "display_name": "Python 3 (ipykernel)",
   "language": "python",
   "name": "python3"
  },
  "language_info": {
   "codemirror_mode": {
    "name": "ipython",
    "version": 3
   },
   "file_extension": ".py",
   "mimetype": "text/x-python",
   "name": "python",
   "nbconvert_exporter": "python",
   "pygments_lexer": "ipython3",
   "version": "3.13.5"
  }
 },
 "nbformat": 4,
 "nbformat_minor": 5
}
