# START_CELL_MAGIC("capture", " output")
!pip install manim
!pip install "manim-voiceover[recorder]"
!pip install "pyaudio"
# END_CELL_MAGIC


import manim
from manim import *
from manim_voiceover import VoiceoverScene
from manim_voiceover.services.recorder import RecorderService


get_ipython().run_cell_magic("manim", " -pqm --disable_caching Intro", """
class Intro(VoiceoverScene):
    def construct(self):
        self.set_speech_service(RecorderService())
        title = Tex("4.1-2 Vector Spaces")

        with self.voiceover(text="Hello everyone, today I want to go over what was covered in linear algebra for Chapter 4, sections one and two. I wanted to make this video to solidify my understanding of the concept and learn some Manim. :)") as tracker:
            self.play (Create(title))""")





get_ipython().run_line_magic("%manim", " -qm ")



