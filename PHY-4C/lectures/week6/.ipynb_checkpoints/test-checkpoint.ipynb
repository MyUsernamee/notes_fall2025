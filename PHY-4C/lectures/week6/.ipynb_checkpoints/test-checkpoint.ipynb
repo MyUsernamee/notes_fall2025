{
 "cells": [
  {
   "cell_type": "code",
   "execution_count": 2,
   "id": "eb17c020",
   "metadata": {},
   "outputs": [
    {
     "name": "stdout",
     "output_type": "stream",
     "text": [
      "Defaulting to user installation because normal site-packages is not writeable\n",
      "Requirement already satisfied: manim in /home/dihydromonoxide/.local/lib/python3.13/site-packages (0.19.0)\n",
      "Requirement already satisfied: Pillow>=9.1 in /home/dihydromonoxide/.local/lib/python3.13/site-packages (from manim) (10.4.0)\n",
      "Requirement already satisfied: Pygments>=2.0.0 in /usr/lib/python3.13/site-packages (from manim) (2.18.0)\n",
      "Requirement already satisfied: audioop-lts>=0.2.0 in /home/dihydromonoxide/.local/lib/python3.13/site-packages (from manim) (0.2.2)\n",
      "Requirement already satisfied: av<14.0.0,>=9.0.0 in /home/dihydromonoxide/.local/lib/python3.13/site-packages (from manim) (13.1.0)\n",
      "Requirement already satisfied: beautifulsoup4>=4.12 in /usr/lib/python3.13/site-packages (from manim) (4.13.4)\n",
      "Requirement already satisfied: click>=8.0 in /home/dihydromonoxide/.local/lib/python3.13/site-packages (from manim) (8.2.1)\n",
      "Requirement already satisfied: cloup>=2.0.0 in /home/dihydromonoxide/.local/lib/python3.13/site-packages (from manim) (3.0.8)\n",
      "Requirement already satisfied: decorator>=4.3.2 in /usr/lib/python3.13/site-packages (from manim) (5.1.1)\n",
      "Requirement already satisfied: isosurfaces>=0.1.0 in /home/dihydromonoxide/.local/lib/python3.13/site-packages (from manim) (0.1.2)\n",
      "Requirement already satisfied: manimpango<1.0.0,>=0.5.0 in /home/dihydromonoxide/.local/lib/python3.13/site-packages (from manim) (0.6.0)\n",
      "Requirement already satisfied: mapbox-earcut>=1.0.0 in /home/dihydromonoxide/.local/lib/python3.13/site-packages (from manim) (1.0.3)\n",
      "Requirement already satisfied: moderngl<6.0.0,>=5.0.0 in /home/dihydromonoxide/.local/lib/python3.13/site-packages (from manim) (5.12.0)\n",
      "Requirement already satisfied: moderngl-window>=2.0.0 in /home/dihydromonoxide/.local/lib/python3.13/site-packages (from manim) (3.1.1)\n",
      "Requirement already satisfied: networkx>=2.6 in /home/dihydromonoxide/.local/lib/python3.13/site-packages (from manim) (3.5)\n",
      "Requirement already satisfied: numpy>=2.1 in /usr/lib64/python3.13/site-packages (from manim) (2.2.6)\n",
      "Requirement already satisfied: pycairo<2.0.0,>=1.13 in /usr/lib64/python3.13/site-packages (from manim) (1.25.1)\n",
      "Requirement already satisfied: pydub>=0.20.0 in /home/dihydromonoxide/.local/lib/python3.13/site-packages (from manim) (0.25.1)\n",
      "Requirement already satisfied: rich>=12.0.0 in /home/dihydromonoxide/.local/lib/python3.13/site-packages (from manim) (14.1.0)\n",
      "Requirement already satisfied: scipy>=1.14.0 in /home/dihydromonoxide/.local/lib/python3.13/site-packages (from manim) (1.16.2)\n",
      "Requirement already satisfied: screeninfo>=0.7 in /home/dihydromonoxide/.local/lib/python3.13/site-packages (from manim) (0.8.1)\n",
      "Requirement already satisfied: skia-pathops>=0.7.0 in /home/dihydromonoxide/.local/lib/python3.13/site-packages (from manim) (0.8.0.post2)\n",
      "Requirement already satisfied: srt>=3.0.0 in /home/dihydromonoxide/.local/lib/python3.13/site-packages (from manim) (3.5.3)\n",
      "Requirement already satisfied: svgelements>=1.8.0 in /home/dihydromonoxide/.local/lib/python3.13/site-packages (from manim) (1.9.6)\n",
      "Requirement already satisfied: tqdm>=4.0.0 in /home/dihydromonoxide/.local/lib/python3.13/site-packages (from manim) (4.67.1)\n",
      "Requirement already satisfied: typing-extensions>=4.0.0 in /usr/lib/python3.13/site-packages (from manim) (4.12.2)\n",
      "Requirement already satisfied: watchdog>=2.0.0 in /home/dihydromonoxide/.local/lib/python3.13/site-packages (from manim) (6.0.0)\n",
      "Requirement already satisfied: soupsieve>1.2 in /usr/lib/python3.13/site-packages (from beautifulsoup4>=4.12->manim) (2.7)\n",
      "Requirement already satisfied: glcontext>=3.0.0 in /home/dihydromonoxide/.local/lib/python3.13/site-packages (from moderngl<6.0.0,>=5.0.0->manim) (3.0.0)\n",
      "Requirement already satisfied: pyglet>=2.0.0 in /home/dihydromonoxide/.local/lib/python3.13/site-packages (from moderngl-window>=2.0.0->manim) (2.1.9)\n",
      "Requirement already satisfied: pyglm<3,>=2.7.0 in /home/dihydromonoxide/.local/lib/python3.13/site-packages (from moderngl-window>=2.0.0->manim) (2.8.2)\n",
      "Requirement already satisfied: markdown-it-py>=2.2.0 in /home/dihydromonoxide/.local/lib/python3.13/site-packages (from rich>=12.0.0->manim) (4.0.0)\n",
      "Requirement already satisfied: mdurl~=0.1 in /home/dihydromonoxide/.local/lib/python3.13/site-packages (from markdown-it-py>=2.2.0->rich>=12.0.0->manim) (0.1.2)\n"
     ]
    }
   ],
   "source": [
    "!pip install manim"
   ]
  },
  {
   "cell_type": "code",
   "execution_count": 10,
   "id": "e53025a7",
   "metadata": {},
   "outputs": [],
   "source": [
    "import manim\n",
    "from manim import *\n",
    "from manim_voiceover import VoiceoverScene\n",
    "from manim_voiceover import RecorderService"
   ]
  },
  {
   "cell_type": "code",
   "execution_count": 17,
   "id": "abae046d",
   "metadata": {
    "lines_to_next_cell": 0
   },
   "outputs": [
    {
     "ename": "NameError",
     "evalue": "name 'VoiceoverScene' is not defined",
     "output_type": "error",
     "traceback": [
      "\u001b[0;31m---------------------------------------------------------------------------\u001b[0m",
      "\u001b[0;31mNameError\u001b[0m                                 Traceback (most recent call last)",
      "Cell \u001b[0;32mIn[17], line 1\u001b[0m\n\u001b[0;32m----> 1\u001b[0m \u001b[43mget_ipython\u001b[49m\u001b[43m(\u001b[49m\u001b[43m)\u001b[49m\u001b[38;5;241;43m.\u001b[39;49m\u001b[43mrun_cell_magic\u001b[49m\u001b[43m(\u001b[49m\u001b[38;5;124;43m'\u001b[39;49m\u001b[38;5;124;43mmanim\u001b[39;49m\u001b[38;5;124;43m'\u001b[39;49m\u001b[43m,\u001b[49m\u001b[43m \u001b[49m\u001b[38;5;124;43m'\u001b[39;49m\u001b[38;5;124;43m-qm Intro\u001b[39;49m\u001b[38;5;124;43m'\u001b[39;49m\u001b[43m,\u001b[49m\u001b[43m \u001b[49m\u001b[38;5;124;43m'\u001b[39;49m\u001b[38;5;130;43;01m\\n\u001b[39;49;00m\u001b[38;5;124;43mclass Intro(VoiceoverScene):\u001b[39;49m\u001b[38;5;130;43;01m\\n\u001b[39;49;00m\u001b[38;5;124;43m    def construct(self):\u001b[39;49m\u001b[38;5;130;43;01m\\n\u001b[39;49;00m\u001b[38;5;124;43m        self.set_speech_service(RecorderService())\u001b[39;49m\u001b[38;5;130;43;01m\\n\u001b[39;49;00m\u001b[38;5;124;43m        title = Tex(\u001b[39;49m\u001b[38;5;124;43m\"\u001b[39;49m\u001b[38;5;124;43m4.1-2 Vector Spaces\u001b[39;49m\u001b[38;5;124;43m\"\u001b[39;49m\u001b[38;5;124;43m)\u001b[39;49m\u001b[38;5;130;43;01m\\n\u001b[39;49;00m\u001b[38;5;130;43;01m\\n\u001b[39;49;00m\u001b[38;5;124;43m        with self.voiceover(text=\u001b[39;49m\u001b[38;5;124;43m\"\u001b[39;49m\u001b[38;5;124;43mHello everyone, today I want to go over what was covered in linear algebra for Chapter 4, sections one and two. I wanted to make this video to solidify my understanding of the concept and learn some Manim. :)\u001b[39;49m\u001b[38;5;124;43m\"\u001b[39;49m\u001b[38;5;124;43m) as tracker:\u001b[39;49m\u001b[38;5;130;43;01m\\n\u001b[39;49;00m\u001b[38;5;124;43m            self.play (Create(title))\u001b[39;49m\u001b[38;5;130;43;01m\\n\u001b[39;49;00m\u001b[38;5;124;43m'\u001b[39;49m\u001b[43m)\u001b[49m\n",
      "File \u001b[0;32m/usr/lib/python3.13/site-packages/IPython/core/interactiveshell.py:2543\u001b[0m, in \u001b[0;36mInteractiveShell.run_cell_magic\u001b[0;34m(self, magic_name, line, cell)\u001b[0m\n\u001b[1;32m   2541\u001b[0m \u001b[38;5;28;01mwith\u001b[39;00m \u001b[38;5;28mself\u001b[39m\u001b[38;5;241m.\u001b[39mbuiltin_trap:\n\u001b[1;32m   2542\u001b[0m     args \u001b[38;5;241m=\u001b[39m (magic_arg_s, cell)\n\u001b[0;32m-> 2543\u001b[0m     result \u001b[38;5;241m=\u001b[39m \u001b[43mfn\u001b[49m\u001b[43m(\u001b[49m\u001b[38;5;241;43m*\u001b[39;49m\u001b[43margs\u001b[49m\u001b[43m,\u001b[49m\u001b[43m \u001b[49m\u001b[38;5;241;43m*\u001b[39;49m\u001b[38;5;241;43m*\u001b[39;49m\u001b[43mkwargs\u001b[49m\u001b[43m)\u001b[49m\n\u001b[1;32m   2545\u001b[0m \u001b[38;5;66;03m# The code below prevents the output from being displayed\u001b[39;00m\n\u001b[1;32m   2546\u001b[0m \u001b[38;5;66;03m# when using magics with decorator @output_can_be_silenced\u001b[39;00m\n\u001b[1;32m   2547\u001b[0m \u001b[38;5;66;03m# when the last Python token in the expression is a ';'.\u001b[39;00m\n\u001b[1;32m   2548\u001b[0m \u001b[38;5;28;01mif\u001b[39;00m \u001b[38;5;28mgetattr\u001b[39m(fn, magic\u001b[38;5;241m.\u001b[39mMAGIC_OUTPUT_CAN_BE_SILENCED, \u001b[38;5;28;01mFalse\u001b[39;00m):\n",
      "File \u001b[0;32m~/.local/lib/python3.13/site-packages/manim/utils/ipython_magic.py:121\u001b[0m, in \u001b[0;36mManimMagic.manim\u001b[0;34m(self, line, cell, local_ns)\u001b[0m\n\u001b[1;32m     47\u001b[0m \u001b[38;5;250m\u001b[39m\u001b[38;5;124mr\u001b[39m\u001b[38;5;124;03m\"\"\"Render Manim scenes contained in IPython cells.\u001b[39;00m\n\u001b[1;32m     48\u001b[0m \u001b[38;5;124;03mWorks as a line or cell magic.\u001b[39;00m\n\u001b[1;32m     49\u001b[0m \n\u001b[0;32m   (...)\u001b[0m\n\u001b[1;32m    118\u001b[0m \n\u001b[1;32m    119\u001b[0m \u001b[38;5;124;03m\"\"\"\u001b[39;00m\n\u001b[1;32m    120\u001b[0m \u001b[38;5;28;01mif\u001b[39;00m cell:\n\u001b[0;32m--> 121\u001b[0m     \u001b[43mexec\u001b[49m\u001b[43m(\u001b[49m\u001b[43mcell\u001b[49m\u001b[43m,\u001b[49m\u001b[43m \u001b[49m\u001b[43mlocal_ns\u001b[49m\u001b[43m)\u001b[49m\n\u001b[1;32m    123\u001b[0m args \u001b[38;5;241m=\u001b[39m line\u001b[38;5;241m.\u001b[39msplit()\n\u001b[1;32m    124\u001b[0m \u001b[38;5;28;01mif\u001b[39;00m \u001b[38;5;129;01mnot\u001b[39;00m \u001b[38;5;28mlen\u001b[39m(args) \u001b[38;5;129;01mor\u001b[39;00m \u001b[38;5;124m\"\u001b[39m\u001b[38;5;124m-h\u001b[39m\u001b[38;5;124m\"\u001b[39m \u001b[38;5;129;01min\u001b[39;00m args \u001b[38;5;129;01mor\u001b[39;00m \u001b[38;5;124m\"\u001b[39m\u001b[38;5;124m--help\u001b[39m\u001b[38;5;124m\"\u001b[39m \u001b[38;5;129;01min\u001b[39;00m args \u001b[38;5;129;01mor\u001b[39;00m \u001b[38;5;124m\"\u001b[39m\u001b[38;5;124m--version\u001b[39m\u001b[38;5;124m\"\u001b[39m \u001b[38;5;129;01min\u001b[39;00m args:\n",
      "File \u001b[0;32m<string>:2\u001b[0m\n",
      "\u001b[0;31mNameError\u001b[0m: name 'VoiceoverScene' is not defined"
     ]
    }
   ],
   "source": [
    "%%manim -qm Intro\n",
    "\n",
    "class Intro(VoiceoverScene):\n",
    "    def construct(self):\n",
    "        self.set_speech_service(RecorderService())\n",
    "        title = Tex(\"4.1-2 Vector Spaces\")\n",
    "\n",
    "        with self.voiceover(text=\"Hello everyone, today I want to go over what was covered in linear algebra for Chapter 4, sections one and two. I wanted to make this video to solidify my understanding of the concept and learn some Manim. :)\") as tracker:\n",
    "            self.play (Create(title))"
   ]
  },
  {
   "cell_type": "markdown",
   "id": "c6e4f89d",
   "metadata": {},
   "source": []
  },
  {
   "cell_type": "code",
   "execution_count": null,
   "id": "8b5fe281-1d96-4975-afcd-a29cd8183cb3",
   "metadata": {},
   "outputs": [],
   "source": [
    "%%manim -qm "
   ]
  }
 ],
 "metadata": {
  "kernelspec": {
   "display_name": "Python 3 (ipykernel)",
   "language": "python",
   "name": "python3"
  },
  "language_info": {
   "codemirror_mode": {
    "name": "ipython",
    "version": 3
   },
   "file_extension": ".py",
   "mimetype": "text/x-python",
   "name": "python",
   "nbconvert_exporter": "python",
   "pygments_lexer": "ipython3",
   "version": "3.13.5"
  }
 },
 "nbformat": 4,
 "nbformat_minor": 5
}
