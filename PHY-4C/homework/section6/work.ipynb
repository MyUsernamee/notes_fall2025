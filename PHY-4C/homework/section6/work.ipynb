{
 "cells": [
  {
   "cell_type": "code",
   "execution_count": 10,
   "id": "61d5ec37-696a-4bd6-a32e-81fa9bb1f2bd",
   "metadata": {},
   "outputs": [],
   "source": [
    "%display latex"
   ]
  },
  {
   "cell_type": "markdown",
   "id": "617c34c9-4a19-43c1-b312-1075041f6615",
   "metadata": {},
   "source": [
    " A scuba diver in the ocean at a depth of 34.9 meters, where the water temperature is 14.0 OC, exhales a bubble of air with a diameter of 1.89 cm. The bubble rises to the surface, where the water temperature is 19.0 OC. Find the diameter, in cm, of the bubble as it reaches the surface. (Note: you can assume that the temperature and pressure of the air in the bubble is the same as that of the surrounding water. The density of seawater is 1.03 g/cc.) "
   ]
  },
  {
   "cell_type": "code",
   "execution_count": 42,
   "id": "14837cc6-8b26-4297-8ed0-7a3a9a0ca31c",
   "metadata": {},
   "outputs": [],
   "source": [
    "y_1 = 34.9 * units.length.meter\n",
    "y_2 = 0.0 * units.length.meter\n",
    "T_1 = 14.0 * units.temperature.celsius\n",
    "T_2 = 19.0 * units.temperature.celsius\n",
    "rho_w = 1.03 * units.mass.gram / (units.length.centimeter ** 3)\n",
    "D_1 = 1.89 * units.length.centimeter\n",
    "D_2 = var('D_2') * units.length.centimeter\n",
    "P_atm = 101353 * units.pressure.pascal\n",
    "R = var('R') * units.energy.joule / (units.amount_of_substance.mole * units.temperature.kelvin)\n",
    "g = units.acceleration.gravity\n",
    "\n",
    "assume(D_2>0)"
   ]
  },
  {
   "cell_type": "code",
   "execution_count": 43,
   "id": "370c9ddf-9f77-44a2-ac06-331f7f8c2ddf",
   "metadata": {},
   "outputs": [],
   "source": [
    "P_b(V, n, T) = n * R * T / V\n",
    "P_d(y) = rho_w * g * y + P_atm"
   ]
  },
  {
   "cell_type": "code",
   "execution_count": 46,
   "id": "925f1a19-02de-4d87-8046-9a567f0fda00",
   "metadata": {},
   "outputs": [],
   "source": [
    "V_1 = D_1 ** 3 * (1 / 6 * pi)\n",
    "V_2 = D_2 ** 3 * (1 / 6 * pi)\n",
    "n = var('n') * units.amount_of_substance.mole\n",
    "assume(n>0)"
   ]
  },
  {
   "cell_type": "code",
   "execution_count": 47,
   "id": "e14700fe-1617-4bf5-869c-866301619431",
   "metadata": {},
   "outputs": [],
   "source": [
    "eq_1 = P_b(V_1, n, T_1)\n",
    "eq_2 = P_b(V_2, n, T_2)"
   ]
  },
  {
   "cell_type": "code",
   "execution_count": 48,
   "id": "80d7a009-c3c9-470d-a8f9-af1c26144178",
   "metadata": {},
   "outputs": [],
   "source": [
    "eqs = [eq_1 == P_d(y_1), eq_2 == P_d(y_2)]"
   ]
  },
  {
   "cell_type": "code",
   "execution_count": 53,
   "id": "c422c6ea-c7c7-42df-afd3-7f27e1a997c5",
   "metadata": {},
   "outputs": [
    {
     "data": {
      "text/html": [
       "<html>\\(\\displaystyle D_{2} = \\frac{27 \\cdot 14479^{\\frac{2}{3}} 19^{\\frac{1}{3}} 7^{\\frac{1}{3}} 2^{\\frac{2}{3}} {\\left(101353000 \\, \\mathit{centimeter}^{3} \\mathit{pascal} + 35947 \\, \\mathit{gram} \\mathit{gravity} \\mathit{meter}\\right)}^{\\frac{1}{3}}}{28958000 \\, \\mathit{centimeter} \\mathit{pascal}^{\\frac{1}{3}}}\\)</html>"
      ],
      "text/latex": [
       "$\\displaystyle D_{2} = \\frac{27 \\cdot 14479^{\\frac{2}{3}} 19^{\\frac{1}{3}} 7^{\\frac{1}{3}} 2^{\\frac{2}{3}} {\\left(101353000 \\, \\mathit{centimeter}^{3} \\mathit{pascal} + 35947 \\, \\mathit{gram} \\mathit{gravity} \\mathit{meter}\\right)}^{\\frac{1}{3}}}{28958000 \\, \\mathit{centimeter} \\mathit{pascal}^{\\frac{1}{3}}}$"
      ],
      "text/plain": [
       "D_2 == 27/28958000*14479^(2/3)*19^(1/3)*7^(1/3)*2^(2/3)*(101353000*centimeter^3*pascal + 35947*gram*gravity*meter)^(1/3)/(centimeter*pascal^(1/3))"
      ]
     },
     "execution_count": 53,
     "metadata": {},
     "output_type": "execute_result"
    }
   ],
   "source": [
    "D_2_soln = solve(eqs, [D_2/units.length.centimeter, n / units.amount_of_substance.mole])[2][0]\n",
    "D_2_soln.canonicalize_radical()"
   ]
  },
  {
   "cell_type": "code",
   "execution_count": null,
   "id": "17cbbd2d-7309-447f-9130-2ae796087f4e",
   "metadata": {},
   "outputs": [],
   "source": []
  },
  {
   "cell_type": "code",
   "execution_count": null,
   "id": "8268f4b6-fd22-418e-bf76-602f3812ab55",
   "metadata": {},
   "outputs": [],
   "source": []
  },
  {
   "cell_type": "code",
   "execution_count": null,
   "id": "4a725dc3-3933-4618-a17f-34cebb4f7ecd",
   "metadata": {},
   "outputs": [],
   "source": []
  },
  {
   "cell_type": "code",
   "execution_count": 22,
   "id": "5ac85671-9854-4d32-8b7c-48ecf240c01c",
   "metadata": {},
   "outputs": [
    {
     "data": {
      "text/html": [
       "<html>\\(\\displaystyle \\frac{27 \\cdot 14479^{\\frac{2}{3}} 19^{\\frac{1}{3}} 7^{\\frac{1}{3}} 2^{\\frac{2}{3}} {\\left(101353000 \\, \\mathit{centimeter}^{3} \\mathit{pascal} + 35947 \\, g \\mathit{gram} \\mathit{meter}\\right)}^{\\frac{1}{3}}}{28958000 \\, \\mathit{pascal}^{\\frac{1}{3}}}\\)</html>"
      ],
      "text/latex": [
       "$\\displaystyle \\frac{27 \\cdot 14479^{\\frac{2}{3}} 19^{\\frac{1}{3}} 7^{\\frac{1}{3}} 2^{\\frac{2}{3}} {\\left(101353000 \\, \\mathit{centimeter}^{3} \\mathit{pascal} + 35947 \\, g \\mathit{gram} \\mathit{meter}\\right)}^{\\frac{1}{3}}}{28958000 \\, \\mathit{pascal}^{\\frac{1}{3}}}$"
      ],
      "text/plain": [
       "27/28958000*14479^(2/3)*19^(1/3)*7^(1/3)*2^(2/3)*(101353000*centimeter^3*pascal + 35947*g*gram*meter)^(1/3)/pascal^(1/3)"
      ]
     },
     "execution_count": 22,
     "metadata": {},
     "output_type": "execute_result"
    }
   ],
   "source": [
    "D_2_soln.right().canonicalize_radical()"
   ]
  },
  {
   "cell_type": "code",
   "execution_count": null,
   "id": "d3ffee4c-5fbb-4426-a771-33ba6629f3b1",
   "metadata": {},
   "outputs": [],
   "source": []
  }
 ],
 "metadata": {
  "kernelspec": {
   "display_name": "SageMath 10.7",
   "language": "sage",
   "name": "sagemath"
  },
  "language_info": {
   "codemirror_mode": {
    "name": "ipython",
    "version": 3
   },
   "file_extension": ".py",
   "mimetype": "text/x-python",
   "name": "python",
   "nbconvert_exporter": "python",
   "pygments_lexer": "ipython3",
   "version": "3.12.12"
  }
 },
 "nbformat": 4,
 "nbformat_minor": 5
}
