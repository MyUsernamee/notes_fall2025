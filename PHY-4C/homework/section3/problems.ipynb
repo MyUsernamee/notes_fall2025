{
 "cells": [
  {
   "cell_type": "code",
   "execution_count": 2,
   "id": "fb6f38d4-0ce9-4e4e-bbdf-1602866b6e31",
   "metadata": {},
   "outputs": [],
   "source": [
    "from sympy import *"
   ]
  },
  {
   "cell_type": "markdown",
   "id": "ad3e7f29-ab0b-4280-a37f-606390373c7f",
   "metadata": {},
   "source": [
    "\\begin{array}{lll} \\text{sound waves:} & p_{max} = BkA & v = \\sqrt{\\frac{B}{\\rho}} & I = \\frac{1}{2} \\rho v \\omega^2 A^2 & \\text{in air: } v = 332 + 0.6T_C \\\\\\\\ \\text{intensity:} & I = \\frac{P_{ower}}{Area} & \\beta = (10 \\text{ dB}) \\log \\left(\\frac{I}{I_0}\\right) & \\text{where } I_0 = 1 \\times 10^{-12} \\frac{W}{m^2} \\\\\\\\ \\text{intensity from a \"point source\":} & I = \\frac{P}{4\\pi r^2} \\\\\\\\ \\text{standing waves for sound:} & \\text{open tube } L = n\\frac{1}{2}\\lambda & \\text{closed tube } L = n\\frac{1}{4}\\lambda & (n = 1, 3, 5, \\ldots) \\\\\\\\ \\text{ Doppler effect:} & f_L = f_S \\left(\\frac{v \\pm v_L}{v \\mp v_S}\\right) \\end{array}"
   ]
  },
  {
   "cell_type": "markdown",
   "id": "ce914fe9-4558-48ff-af61-675b9240b029",
   "metadata": {},
   "source": [
    "# Problem 4\n",
    "\n",
    "You measure a sound wave in air to have an intensity level of 80.5 dB and frequency 938 Hz. The speed of sound in the air is 341 m/s and the bulk modulus of the air is 140 kPa. Find:\n",
    "\n",
    "   (a) the intensity of the sound wave, in W/m2;\n",
    "\n",
    "   (b) the density of the air, in kg/m3;\n",
    "\n",
    "   (c) the displacement amplitude of the air molecules, in meters;\n",
    "\n",
    "   (d) the pressure amplitude of the sound wave.\n",
    "\n",
    "Enter your answer to Part (d), in Pascals, in the box below.\n"
   ]
  },
  {
   "cell_type": "code",
   "execution_count": 32,
   "id": "dd3befbd-76a1-4ae1-91d1-7f3fd7be6599",
   "metadata": {},
   "outputs": [],
   "source": [
    "beta = 80.5 #DB\n",
    "f = 938 # Hz\n",
    "v = 341 # m/s\n",
    "B = 140000 # Pa"
   ]
  },
  {
   "cell_type": "markdown",
   "id": "9c20be41-f401-4fea-a001-612d033b1878",
   "metadata": {},
   "source": [
    "## Part a)"
   ]
  },
  {
   "cell_type": "markdown",
   "id": "6d21888c-c1df-4e78-bd88-304ad03e2346",
   "metadata": {},
   "source": []
  },
  {
   "cell_type": "code",
   "execution_count": 8,
   "id": "b1584972-dbd0-4c06-ab68-e2a5d08150eb",
   "metadata": {},
   "outputs": [
    {
     "data": {
      "image/png": "[encoded data removed]",
      "text/plain": [
       "0.00011220184543019652"
      ]
     },
     "execution_count": 8,
     "metadata": {},
     "output_type": "execute_result"
    }
   ],
   "source": [
    "# The intensity of the sound wave in W can be found using \\beta = (10 DB)log_{10}(\\frac{I}{I_0})\n",
    "\n",
    "I_0 = 10 ** (-12)\n",
    "\n",
    "# log_{10} (\\frac{I}{I_0}) = \\beta / 10\n",
    "# \\frac{I}{I_0} = 10^{\\beta / 10}\n",
    "# I = 10^{\\beta / 10} I_0\n",
    "\n",
    "I = 10 ** (beta/10) * I_0\n",
    "I"
   ]
  },
  {
   "cell_type": "markdown",
   "id": "60d1215d-984f-4155-bce7-e6c48586d696",
   "metadata": {},
   "source": [
    "## Part B)"
   ]
  },
  {
   "cell_type": "code",
   "execution_count": 17,
   "id": "9551837d-5e96-458d-a073-e4ee62e78021",
   "metadata": {},
   "outputs": [
    {
     "data": {
      "image/png": "[encoded data removed]",
      "text/plain": [
       "1.20398001393177"
      ]
     },
     "execution_count": 17,
     "metadata": {},
     "output_type": "execute_result"
    }
   ],
   "source": [
    "omega = 2 * pi * f\n",
    "A, rho = symbols(\"A rho\", positive=True)\n",
    "\n",
    "density_expression = sqrt(B / rho) - v\n",
    "rho = solve(density_expression, rho)[0]\n",
    "rho.evalf()"
   ]
  },
  {
   "cell_type": "markdown",
   "id": "f3ae4837-3281-4464-af2f-43e27c892fa7",
   "metadata": {},
   "source": [
    "# Part C)\n",
    "Amplitude of air molecules\n",
    "\n",
    "$I = \\frac{1}{2}\\rho v \\omega^2 A^2$"
   ]
  },
  {
   "cell_type": "code",
   "execution_count": 23,
   "id": "2a11bc80-1d64-460f-9188-db703cbf62c0",
   "metadata": {},
   "outputs": [
    {
     "data": {
      "image/png": "[encoded data removed]",
      "text/plain": [
       "[1.25442720119564e-7]"
      ]
     },
     "execution_count": 23,
     "metadata": {},
     "output_type": "execute_result"
    }
   ],
   "source": [
    "amplitude_expression = 0.5 * rho * v * omega ** 2 * A ** 2 - I\n",
    "\n",
    "A_val = solve(amplitude_expression, A)\n",
    "A_val"
   ]
  },
  {
   "cell_type": "code",
   "execution_count": 30,
   "id": "1d4cfa49-750d-4841-9c67-dc09dd7edea9",
   "metadata": {},
   "outputs": [],
   "source": [
    "wavelength = v / f\n",
    "k = (2 * pi) / wavelength\n",
    "\n",
    "p_max = B * k * A_val[0]"
   ]
  },
  {
   "cell_type": "code",
   "execution_count": 31,
   "id": "b642685f-93ff-4e9e-872b-7700d80441e2",
   "metadata": {},
   "outputs": [
    {
     "data": {
      "image/png": "[encoded data removed]",
      "text/plain": [
       "0.303530142765619"
      ]
     },
     "execution_count": 31,
     "metadata": {},
     "output_type": "execute_result"
    }
   ],
   "source": [
    "p_max.evalf()"
   ]
  },
  {
   "cell_type": "markdown",
   "id": "14ad6d86-698f-4242-8bd0-428b969ab037",
   "metadata": {},
   "source": [
    "# Problem 5"
   ]
  },
  {
   "cell_type": "markdown",
   "id": "f737c03f-17c1-42db-a17b-d334d467f699",
   "metadata": {},
   "source": [
    "A sound wave is measured to have an intensity of $2.75 \\times 10^{-5} W/m^2$. Find the intensity level of this sound wave."
   ]
  },
  {
   "cell_type": "code",
   "execution_count": 36,
   "id": "e4bd925b-4fce-4777-8bcf-8382774b16ae",
   "metadata": {},
   "outputs": [
    {
     "data": {
      "image/png": "[encoded data removed]",
      "text/plain": [
       "74.3933269383026"
      ]
     },
     "execution_count": 36,
     "metadata": {},
     "output_type": "execute_result"
    }
   ],
   "source": [
    "##### I = 2.75 * 10 ** (-5) # W / m^2\n",
    "\n",
    "beta = 10 * log(I / I_0, 10)\n",
    "beta.evalf()"
   ]
  },
  {
   "cell_type": "markdown",
   "id": "15179593-b09c-4d88-822b-0572f247e7b6",
   "metadata": {},
   "source": [
    "# Problem 6\n",
    "\n",
    "A siren at the top of a tall building emits sound isotropically (uniformly in all directions.) When you are an unknown distance from the base of the building, your measuring device on the ground indicates the intensity level of the sound is 88.2 dB. You then move 43.6 m further away from the base of the building where you measure the intensity level is 85.3 dB. The height of the building is 20.0 m. Find:\n",
    "\n",
    "(a) the original distance from you to the base of the building;\n",
    "\n",
    "(b) the power emitted by the siren.\n"
   ]
  },
  {
   "cell_type": "code",
   "execution_count": 47,
   "id": "24636e9d-cb08-4a32-9c9c-d46fc6f1eb60",
   "metadata": {},
   "outputs": [],
   "source": [
    "beta_0 = 88.2 # dB\n",
    "beta_1 = 85.4 # dB\n",
    "\n",
    "dx = 44.9 # m\n",
    "y = 20.0 # m\n"
   ]
  },
  {
   "cell_type": "code",
   "execution_count": 48,
   "id": "40ec52a9-5e45-48dd-8785-a111b5bfcfd8",
   "metadata": {},
   "outputs": [],
   "source": [
    "# I = P_{ower} / A_{rea}\n",
    "# I = P_{ower} / (4 pi r^2)\n",
    "\n",
    "I_1 = 10**(beta_0 / 10) * I_0\n",
    "I_2 = 10**(beta_1 / 10) * I_0"
   ]
  },
  {
   "cell_type": "code",
   "execution_count": 49,
   "id": "3e00c62f-49b5-4c4e-959c-d94091ff3eae",
   "metadata": {},
   "outputs": [
    {
     "data": {
      "image/png": "[encoded data removed]",
      "text/plain": [
       "[(115.05154077662, 113.220260953977)]"
      ]
     },
     "execution_count": 49,
     "metadata": {},
     "output_type": "execute_result"
    }
   ],
   "source": [
    "r, x_0, P = symbols('r x_0 P', positive = True)\n",
    "\n",
    "exprs = [\n",
    "    (P / (4 * pi * (y ** 2 + x_0 ** 2))) - I_1,\n",
    "    (P / (4 * pi * (y ** 2 + (x_0 + dx) ** 2))) - I_2\n",
    "] \n",
    "\n",
    "solve(exprs, [x_0, P])"
   ]
  },
  {
   "cell_type": "markdown",
   "id": "33321910-5a5c-488c-8b0b-e4675ea058c1",
   "metadata": {},
   "source": [
    "An tube that is open at both ends resonates with a fundamental frequency of 229 Hz when the air temperature is 20.0 OC. Find:\n",
    "\n",
    "   (a) the length of the tube;\n",
    "\n",
    "   (b) the fundamental frequency of the tube when the temperature of the air is increased to 32.9 OC."
   ]
  },
  {
   "cell_type": "code",
   "execution_count": 62,
   "id": "61e33086-5228-48a4-951c-e2530208c07b",
   "metadata": {},
   "outputs": [],
   "source": [
    "f_0 = 229 # Hz\n",
    "T_0 = 20.0 # C\n",
    "T_1 = 32.9 # C"
   ]
  },
  {
   "cell_type": "markdown",
   "id": "6bba886f-8f89-47a7-b163-baefb04b9454",
   "metadata": {},
   "source": [
    "in air: v = 332 + 0.6T_C"
   ]
  },
  {
   "cell_type": "code",
   "execution_count": 70,
   "id": "20e29806-1f3f-4558-b4d7-5f773a413448",
   "metadata": {},
   "outputs": [],
   "source": [
    "n, lam, T = symbols('n lambda T')\n",
    "f = symbols('f')\n",
    "\n",
    "L = 0.5 * n * (332 + 0.6 * T) / f "
   ]
  },
  {
   "cell_type": "code",
   "execution_count": 71,
   "id": "b4cf5d44-3e56-47c1-8119-2d096d5dd807",
   "metadata": {},
   "outputs": [
    {
     "data": {
      "image/png": "[encoded data removed]",
      "text/plain": [
       "0.751091703056769*n"
      ]
     },
     "execution_count": 71,
     "metadata": {},
     "output_type": "execute_result"
    }
   ],
   "source": [
    "L.subs(T, T_0).subs(f, f_0).evalf()"
   ]
  },
  {
   "cell_type": "code",
   "execution_count": 74,
   "id": "43ec971e-a2a6-43c7-b982-462364f047f8",
   "metadata": {},
   "outputs": [
    {
     "data": {
      "image/png": "[encoded data removed]",
      "text/plain": [
       "234.152500000000"
      ]
     },
     "execution_count": 74,
     "metadata": {},
     "output_type": "execute_result"
    }
   ],
   "source": [
    "solve(L - L.subs(T, T_0).subs(f, f_0), f)[0].subs(T, T_1)"
   ]
  },
  {
   "cell_type": "markdown",
   "id": "1f3f8f07-9d28-423d-9a9e-dc9d36672027",
   "metadata": {},
   "source": [
    "The third resonant frequency for a tube closed at one end (and open at the other end) is measured as 518 Hz. The length of the tube is 85.0 cm. Find:\n",
    "\n",
    "   (a) the corresponding speed of sound;\n",
    "\n",
    "   (b) the temperature of the air in the tube.\n",
    "\n",
    "Enter your answer, in degrees Celsius.`\n"
   ]
  },
  {
   "cell_type": "code",
   "execution_count": 99,
   "id": "e0ecbf48-0846-4701-8ee4-3afff1280f56",
   "metadata": {},
   "outputs": [],
   "source": [
    "f = 518 # Hz\n",
    "L = 85 / 100 # m\n",
    "n = 5 #"
   ]
  },
  {
   "cell_type": "code",
   "execution_count": 100,
   "id": "32f93c7c-7c93-4cd8-b8aa-b22388b868cc",
   "metadata": {},
   "outputs": [],
   "source": [
    "lam, v, T = symbols('lambda v T')\n",
    "v = 332 + 0.6 * T\n",
    "lam = (v / f)  \n",
    "L_expr = (n * 0.25 * lam) - L"
   ]
  },
  {
   "cell_type": "code",
   "execution_count": 101,
   "id": "e5ebcb88-18c4-4242-b93b-e7d67afabfcc",
   "metadata": {},
   "outputs": [],
   "source": [
    "solns = solve(L_expr, T)[0]"
   ]
  },
  {
   "cell_type": "code",
   "execution_count": 102,
   "id": "6d0f0735-0679-496b-91e7-db902dc34ea2",
   "metadata": {},
   "outputs": [
    {
     "data": {
      "image/png": "[encoded data removed]",
      "text/plain": [
       "(33.7333333333333, 352.24)"
      ]
     },
     "execution_count": 102,
     "metadata": {},
     "output_type": "execute_result"
    }
   ],
   "source": [
    "solns, v.subs(T, solns)"
   ]
  },
  {
   "cell_type": "markdown",
   "id": "3a8e15b6-b80d-45fa-95b6-649117bfc3de",
   "metadata": {},
   "source": [
    "## Problem 9\n",
    "\n",
    "You’re driving on the highway at a speed of 33.5 m/s when you hear the siren of a CHP cruiser that is approaching you rapidly from behind. Before you have time to react, the officer passes you and disappears over the horizon. You notice that the frequency you heard as the cruiser approached you was 2,131 Hz, but the frequency you heard after he passed you was 1,810 Hz. The temperature of the outside air is 77OF (i.e. 25.0OC.) Find:\n",
    "\n",
    "   (a) the speed of sound waves in the air;\n",
    "\n",
    "   (b) the speed of the CHP cruiser;\n",
    "\n",
    "   (c) the actual frequency emitted by the siren.\n",
    "\n",
    " Enter your answer to Part (c), in Hz, in the box below.\n"
   ]
  },
  {
   "cell_type": "code",
   "execution_count": 137,
   "id": "3fc4baab-16a4-468d-9c49-35a322faa670",
   "metadata": {},
   "outputs": [],
   "source": [
    "v_o = 33.7 # m/s\n",
    "f_1 = 2131 # Hz\n",
    "f_2 = 1846 # Hz\n",
    "T = 25 # C "
   ]
  },
  {
   "cell_type": "code",
   "execution_count": 138,
   "id": "2167e624-0423-4562-887c-7d3f68dff774",
   "metadata": {},
   "outputs": [
    {
     "data": {
      "image/png": "[encoded data removed]",
      "text/plain": [
       "347.0"
      ]
     },
     "execution_count": 138,
     "metadata": {},
     "output_type": "execute_result"
    }
   ],
   "source": [
    "v = 332 + 0.6 * T\n",
    "v"
   ]
  },
  {
   "cell_type": "code",
   "execution_count": 139,
   "id": "682527cd-e988-487b-bb14-a72aef050026",
   "metadata": {},
   "outputs": [],
   "source": [
    "v_s, pm, f = symbols('v_s pm f')\n",
    "f_xprs = [\n",
    "    (f * ((v + v_o) / (v - v_s))) - f_2,\n",
    "    (f * ((v - v_o) / (v + v_s))) - f_1\n",
    "]"
   ]
  },
  {
   "cell_type": "code",
   "execution_count": 140,
   "id": "dbcd63ac-78eb-49d1-8dec-90786fe0f725",
   "metadata": {},
   "outputs": [
    {
     "data": {
      "image/png": "[encoded data removed]",
      "text/plain": [
       "{f: 1964.61505148697, v_s: -58.1619448001563}"
      ]
     },
     "execution_count": 140,
     "metadata": {},
     "output_type": "execute_result"
    }
   ],
   "source": [
    "solve(f_xprs, [v_s, f])"
   ]
  },
  {
   "cell_type": "markdown",
   "id": "eb487a5b-35fd-4c83-8cbb-d359a71fc6e9",
   "metadata": {},
   "source": [
    "Radar and sonar both use the Doppler effect to determine the speed of their target. While radar, which uses radio waves, is preferred for objects traveling on the ground or in the air, sonar is useful for objects that travel through (or on) the water because radio waves do not travel well through water. The crew of a US Navy submarine at rest in the water uses sonar to measure the speed of another sub as it moves toward them. The crew sends a sound wave of frequency 630 Hz and receives a sound wave of 642 Hz after the wave reflects from the approaching sub. The speed of sound in water is 1420 m/s. Find the speed of the approaching sub."
   ]
  },
  {
   "cell_type": "code",
   "execution_count": 48,
   "id": "41711e64-361f-4c38-965c-09a7b1fc141f",
   "metadata": {},
   "outputs": [
    {
     "data": {
      "image/png": "[encoded data removed]",
      "text/plain": [
       "v_o"
      ]
     },
     "execution_count": 48,
     "metadata": {},
     "output_type": "execute_result"
    }
   ],
   "source": [
    "v = 1420 # m/2\n",
    "f_s = 630\n",
    "f_r = 643\n",
    "var('v_o')"
   ]
  },
  {
   "cell_type": "code",
   "execution_count": 49,
   "id": "d60266ee-a3ec-428d-bd3c-5e3879f5a97f",
   "metadata": {},
   "outputs": [],
   "source": [
    "doppler_expr = Eq(f_r, (((v - v_o) / v) * f_s)*((v - v_o) / v))"
   ]
  },
  {
   "cell_type": "code",
   "execution_count": 50,
   "id": "790f83e8-2f87-4f98-b4c7-41ab63f2abde",
   "metadata": {},
   "outputs": [
    {
     "data": {
      "image/png": "[encoded data removed]",
      "text/plain": [
       "-14.5759840343954"
      ]
     },
     "execution_count": 50,
     "metadata": {},
     "output_type": "execute_result"
    }
   ],
   "source": [
    "solve(doppler_expr, [v_o])[0].evalf()"
   ]
  },
  {
   "cell_type": "markdown",
   "id": "736b2334-82eb-445d-aec4-194987a6ce35",
   "metadata": {},
   "source": [
    "\\begin{array}{lll} \\text{sound waves:} & p_{max} = BkA & v = \\sqrt{\\frac{B}{\\rho}} & I = \\frac{1}{2} \\rho v \\omega^2 A^2 & \\text{in air: } v = 332 + 0.6T_C \\\\\\\\ \\text{intensity:} & I = \\frac{P_{ower}}{Area} & \\beta = (10 \\text{ dB}) \\log \\left(\\frac{I}{I_0}\\right) & \\text{where } I_0 = 1 \\times 10^{-12} \\frac{W}{m^2} \\\\\\\\ \\text{intensity from a \"point source\":} & I = \\frac{P}{4\\pi r^2} \\\\\\\\ \\text{standing waves for sound:} & \\text{open tube } L = n\\frac{1}{2}\\lambda & \\text{closed tube } L = n\\frac{1}{4}\\lambda & (n = 1, 3, 5, \\ldots) \\\\\\\\ \\text{ Doppler effect:} & f_L = f_S \\left(\\frac{v \\pm v_L}{v \\mp v_S}\\right) \\end{array}"
   ]
  },
  {
   "cell_type": "markdown",
   "id": "1c4ca1bb-1f87-4bac-8164-cf68f7d6d734",
   "metadata": {},
   "source": [
    "The end of the runway at Princess Juliana International Airport on the Caribbean island of St Maarten is adjacent to Maho Beach, and watching the planes land just overhead while hanging out at the beach is a popular tourist pastime. In this YouTube video,\n",
    "\n",
    " A KLM 747 Landing at St Maarten\n",
    "\n",
    "Links to an external site.\n",
    "\n",
    "a KLM Boeing 747, prepares to land. It approaches tourists on the beach who hear a high-pitched sound from the engines of frequency 1,691 Hz. After the jet has passed overhead, the frequency heard by the tourists drops to 1,067 Hz (I used a frequency analyzer to determine these values directly from the video). Assume the air temperature that day was 86O F (which is 30.0O C). Find the speed of the 747 as it passed over the tourists.\n",
    "\n",
    "Enter your answer, in m/s, in the box below."
   ]
  },
  {
   "cell_type": "code",
   "execution_count": 62,
   "id": "3cc4d030-8c4a-40aa-b57b-f9d50182b6a0",
   "metadata": {},
   "outputs": [
    {
     "data": {
      "image/png": "[encoded data removed]",
      "text/plain": [
       "f"
      ]
     },
     "execution_count": 62,
     "metadata": {},
     "output_type": "execute_result"
    }
   ],
   "source": [
    "f_0 = 1691\n",
    "f_1 = 1067\n",
    "T = 30\n",
    "var('v')\n",
    "var('f')"
   ]
  },
  {
   "cell_type": "code",
   "execution_count": 64,
   "id": "cd06e2c1-22aa-45f2-9158-a70b6e2d95b7",
   "metadata": {},
   "outputs": [
    {
     "data": {
      "image/png": "[encoded data removed]",
      "text/plain": [
       "{f: 1308.40971718637, v: 79.1878172588832}"
      ]
     },
     "execution_count": 64,
     "metadata": {},
     "output_type": "execute_result"
    }
   ],
   "source": [
    "v_a = 332 + 0.6 * T\n",
    "f_i = (v_a / (v_a - v)) * f - f_0\n",
    "f_o = (v_a / (v_a + v)) * f - f_1\n",
    "\n",
    "solve([f_i, f_o], [v, f])"
   ]
  },
  {
   "cell_type": "code",
   "execution_count": null,
   "id": "af787e83-c30d-4c4f-be3c-ef297d4ee518",
   "metadata": {},
   "outputs": [],
   "source": []
  },
  {
   "cell_type": "code",
   "execution_count": null,
   "id": "a7a97a39-e6bf-4bf7-a43c-a1fc7fa238c5",
   "metadata": {},
   "outputs": [],
   "source": []
  }
 ],
 "metadata": {
  "kernelspec": {
   "display_name": "Python 3 (ipykernel)",
   "language": "python",
   "name": "python3"
  },
  "language_info": {
   "codemirror_mode": {
    "name": "ipython",
    "version": 3
   },
   "file_extension": ".py",
   "mimetype": "text/x-python",
   "name": "python",
   "nbconvert_exporter": "python",
   "pygments_lexer": "ipython3",
   "version": "3.13.5"
  }
 },
 "nbformat": 4,
 "nbformat_minor": 5
}
