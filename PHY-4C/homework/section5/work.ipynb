{
 "cells": [
  {
   "cell_type": "code",
   "execution_count": 1,
   "id": "8602428d-f151-4316-ab78-174f796810eb",
   "metadata": {},
   "outputs": [],
   "source": [
    "from sympy import *\n",
    "from sympy_extensions.solver_extensions import *"
   ]
  },
  {
   "cell_type": "markdown",
   "id": "41fb7d78-8f99-484c-a0e2-241b5d3bd90c",
   "metadata": {},
   "source": [
    "A single-pane window, i.e. a thin piece of glass, has very low thermal resistance. Much of the heat flowing into a home in the summer, or flowing out in the winter, does so through these windows. But double-pane windows help to solve this problem, due to a sealed insulating layer of gas (usually argon) between the two glass panes of the window. To appreciate the difference, for each of the two windows below, find the thermal resistance of the window, in K/W, and the rate at which heat flows through the window, in Watts, when the indoor and outdoor temperatures are 22.0 OC and 38.0 OC, respectively.\n",
    "\n",
    "   (a) A single-pane window of area 1.00 $m^2$ and thickness 8.00 mm. The thermal conductivity of the glass is 0.820 W/m-K.\n",
    "\n",
    "   (b) A double-pane window constructed of two panes of glass (each identical to that of the single-pane window), separated by a gap of 1.97 cm. The space between the panes is filled with argon that has a thermal conductivity of 0.0160 W/m-K.\n",
    "\n",
    "Enter your answer for the rate of heat flow for the double-pane window below.\n"
   ]
  },
  {
   "cell_type": "code",
   "execution_count": 2,
   "id": "9b6f4d75-b850-4693-87c6-d14a0bb7e614",
   "metadata": {},
   "outputs": [],
   "source": [
    "T_inside = 22\n",
    "T_outside = 38 # C\n",
    "A_window = 1 # m^2\n",
    "w_window = 8.0 / 1000 # m"
   ]
  },
  {
   "cell_type": "code",
   "execution_count": 21,
   "id": "47ebb6b9-5ea7-4f61-a96b-3314b57b1830",
   "metadata": {},
   "outputs": [],
   "source": [
    "w_gap = 2.36 / 100 # m"
   ]
  },
  {
   "cell_type": "code",
   "execution_count": 34,
   "id": "0d806f51-1930-4537-9fed-90b095f4055c",
   "metadata": {},
   "outputs": [],
   "source": [
    "C_window = 0.820 # W/m*K\n",
    "C_argon = 0.0160 # W/m*K"
   ]
  },
  {
   "cell_type": "code",
   "execution_count": 42,
   "id": "59efb741-9b49-4b4c-8c16-900de7342637",
   "metadata": {},
   "outputs": [],
   "source": [
    "var('Q c A dT dx')\n",
    "Q = (c * A * dT / dx)"
   ]
  },
  {
   "cell_type": "code",
   "execution_count": 50,
   "id": "d87d5d78-ce5b-49b2-9af4-7bda3940f1f1",
   "metadata": {},
   "outputs": [
    {
     "data": {
      "text/latex": [
       "$\\displaystyle A c \\frac{d}{d x} T{\\left(x \\right)}$"
      ],
      "text/plain": [
       "A*c*Derivative(T(x), x)"
      ]
     },
     "execution_count": 50,
     "metadata": {},
     "output_type": "execute_result"
    }
   ],
   "source": [
    "T = Function('T')\n",
    "x = symbols('x')\n",
    "Q_int = c * A * T(x).diff(x)\n",
    "Q_int"
   ]
  },
  {
   "cell_type": "code",
   "execution_count": 57,
   "id": "814ff038-8ac2-444d-b71e-5ee25db34b69",
   "metadata": {},
   "outputs": [
    {
     "data": {
      "text/plain": [
       "[{c_1: c_2*(T(1/125) - T(79/2500))/(T(1/125) - T(79/2500) + 16.0)}]"
      ]
     },
     "execution_count": 57,
     "metadata": {},
     "output_type": "execute_result"
    }
   ],
   "source": [
    "esolve("
   ]
  },
  {
   "cell_type": "code",
   "execution_count": null,
   "id": "cc92d01a-5cc4-4ac8-96d7-1db6efdf591f",
   "metadata": {},
   "outputs": [],
   "source": []
  },
  {
   "cell_type": "code",
   "execution_count": 47,
   "id": "b6367938-c354-4bd7-8afa-03eb32eb81b2",
   "metadata": {},
   "outputs": [
    {
     "data": {
      "text/plain": [
       "(1640.00000000000, 10.8474576271186)"
      ]
     },
     "execution_count": 47,
     "metadata": {},
     "output_type": "execute_result"
    }
   ],
   "source": [
    "Q_window = Q.subs([(c, C_window), (A, 1), (dT, (T_outside - T_inside)), (dx, w_window)])\n",
    "Q_gap = Q.subs([(c, C_argon), (A, 1), (dT, (T_outside - T_inside)), (dx, w_gap)])\n",
    "Q_window, Q_gap"
   ]
  },
  {
   "cell_type": "code",
   "execution_count": 39,
   "id": "6091e27c-48b5-4062-8e48-ac9e75a4ed3e",
   "metadata": {},
   "outputs": [
    {
     "data": {
      "text/plain": [
       "(-1640.0, -0.09218749999999998)"
      ]
     },
     "execution_count": 39,
     "metadata": {},
     "output_type": "execute_result"
    }
   ],
   "source": [
    "\n",
    "Q_dp = "
   ]
  },
  {
   "cell_type": "code",
   "execution_count": null,
   "id": "7c8adc02-ef47-4759-a9db-f8187b30d764",
   "metadata": {},
   "outputs": [],
   "source": []
  }
 ],
 "metadata": {
  "kernelspec": {
   "display_name": "Python 3 (ipykernel)",
   "language": "python",
   "name": "python3"
  },
  "language_info": {
   "codemirror_mode": {
    "name": "ipython",
    "version": 3
   },
   "file_extension": ".py",
   "mimetype": "text/x-python",
   "name": "python",
   "nbconvert_exporter": "python",
   "pygments_lexer": "ipython3",
   "version": "3.13.7"
  }
 },
 "nbformat": 4,
 "nbformat_minor": 5
}
