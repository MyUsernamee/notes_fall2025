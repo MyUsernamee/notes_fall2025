{
 "cells": [
  {
   "cell_type": "code",
   "execution_count": 2,
   "id": "1dd70d6e-c0f1-4239-967b-02ee6b32acd3",
   "metadata": {},
   "outputs": [],
   "source": [
    "from sympy import *"
   ]
  },
  {
   "cell_type": "markdown",
   "id": "84dfe996-3c9d-4d8d-8b3f-6d6883411224",
   "metadata": {},
   "source": [
    " In August 2013, Harrison Okene was a crewmember of a tugboat off the coast of Nigeria when the boat capsized and sank to the bottom of the ocean. Harrison survived two and half days in a pocket of air trapped in a room of the overturned boat, 30 m below the ocean surface. The trapped air was at the same pressure as the water in the room. Find the pressure of the air, in atm, that Harrison breathed during his ordeal. (Note: the density of seawater is 1030 kg/m3.)\n"
   ]
  },
  {
   "cell_type": "code",
   "execution_count": 5,
   "id": "fcd37b3b-8793-473c-b480-e15dc1dec4df",
   "metadata": {},
   "outputs": [],
   "source": [
    "ATM = 101300 # Pa"
   ]
  },
  {
   "cell_type": "code",
   "execution_count": 6,
   "id": "f4bc8f14-bf4a-4fec-8ef0-18180ab6f73c",
   "metadata": {},
   "outputs": [],
   "source": [
    "rho = 1030\n",
    "g = 9.8\n",
    "d = 30\n",
    "\n",
    "p = ATM + rho * g * d"
   ]
  },
  {
   "cell_type": "code",
   "execution_count": 5,
   "id": "1abfbfcf-19cf-4431-a8e7-b02f9e308baf",
   "metadata": {},
   "outputs": [
    {
     "data": {
      "image/png": "[encoded data removed]",
      "text/plain": [
       "3.9893385982230996"
      ]
     },
     "execution_count": 5,
     "metadata": {},
     "output_type": "execute_result"
    }
   ],
   "source": [
    "p / ATM"
   ]
  },
  {
   "cell_type": "markdown",
   "id": "8a544c55-7960-488e-8d7d-368d15248a58",
   "metadata": {},
   "source": [
    "Water fills the bottom of a u-tube, and an unknown liquid is added to the left side, as shown. The height of the column of the unknown liquid is x = 21.7 cm, and the difference in height of the levels of the two sides is y = 6.47 cm. Find the density, in g/cc, of the unknown liquid."
   ]
  },
  {
   "cell_type": "code",
   "execution_count": 16,
   "id": "8381ef4b-052d-40c4-a71b-5bfbf99f5ca1",
   "metadata": {},
   "outputs": [
    {
     "data": {
      "image/png": "[encoded data removed]",
      "text/plain": [
       "0.322065727699531"
      ]
     },
     "execution_count": 16,
     "metadata": {},
     "output_type": "execute_result"
    }
   ],
   "source": [
    "x = 21.3 / 100\n",
    "y = 6.86 / 100\n",
    "rho_w = 1 / 1\n",
    "\n",
    "var('rho_w rho d_1 d_2 p_1 p_2')\n",
    "eq = Eq(rho * g * d_1, rho_w * g * d_2)\n",
    "solve(eq, rho)[0].subs([(d_1, x), (d_2, y), (rho_w, 1)])"
   ]
  },
  {
   "cell_type": "markdown",
   "id": "12cd2888-cc1c-49f7-971d-e98ec778607f",
   "metadata": {},
   "source": [
    "A bracelet is made of a mixture of gold and copper (this is common for gold jewelry), and has a mass of 64 grams. When the bracelet is hung by a string attached to a scale and submerged in water, the scale reads 58.8 grams. Find the value of the gold, in dollars, contained in the bracelet. (The densities of gold and copper are 19.3 g/cc and 8.96 g/cc, respectively. The current price of gold is \\\\$1790 per ounce, which is \\\\$57.60 per gram.) "
   ]
  },
  {
   "cell_type": "code",
   "execution_count": 124,
   "id": "b9bb24ea-b5ca-46a5-9c35-07b3385d75df",
   "metadata": {},
   "outputs": [],
   "source": [
    "m_b = 63.6 # g\n",
    "b_m = 58.8 # Mass read from the scale when placed in water, the bouyancy force\n",
    "rho_g = 19.3\n",
    "rho_c = 8.96\n",
    "v_g = 1790 / 31.1 # Price of golder per ounce\n",
    "v_c = 57.60 # Price of copper per gram"
   ]
  },
  {
   "cell_type": "code",
   "execution_count": 125,
   "id": "7a6777c6-d36c-48b3-914a-c24bf256342a",
   "metadata": {},
   "outputs": [
    {
     "data": {
      "image/png": "[encoded data removed]",
      "text/plain": [
       "57.55627009646302"
      ]
     },
     "execution_count": 125,
     "metadata": {},
     "output_type": "execute_result"
    }
   ],
   "source": [
    "v_g"
   ]
  },
  {
   "cell_type": "code",
   "execution_count": 126,
   "id": "c2f451f3-4af2-42a9-b4d9-f5ae5d868873",
   "metadata": {},
   "outputs": [],
   "source": [
    "var('V_b')\n",
    "V_b = solve(Eq(b_m, m_b - V_b), V_b)[0]"
   ]
  },
  {
   "cell_type": "code",
   "execution_count": 127,
   "id": "9f237768-ccec-4677-b1b7-60ea198901f8",
   "metadata": {},
   "outputs": [
    {
     "data": {
      "image/png": "[encoded data removed]",
      "text/plain": [
       "4.80000000000000"
      ]
     },
     "execution_count": 127,
     "metadata": {},
     "output_type": "execute_result"
    }
   ],
   "source": [
    "V_b # cc"
   ]
  },
  {
   "cell_type": "code",
   "execution_count": 128,
   "id": "288dcbea-a0cc-421f-9f82-57fde741e1ce",
   "metadata": {},
   "outputs": [
    {
     "data": {
      "image/png": "[encoded data removed]",
      "text/plain": [
       "(m_g, m_c)"
      ]
     },
     "execution_count": 128,
     "metadata": {},
     "output_type": "execute_result"
    }
   ],
   "source": [
    "var('m_g m_c')"
   ]
  },
  {
   "cell_type": "code",
   "execution_count": 129,
   "id": "8be77827-5eae-45c3-b8a3-00b15fdc40ef",
   "metadata": {},
   "outputs": [],
   "source": [
    "# rho = m / v\n",
    "# v = m / rho\n",
    "# m  = rho / v\n",
    "# We can calculate the total mass of two combination of metals.\n",
    "# We can also calculate the total volume of the combination\n",
    "m_total =  m_g + m_c - m_b\n",
    "v_total = m_g / rho_g + m_c / rho_c - V_b\n",
    "\n",
    "soln = solve([m_total, v_total], [m_g, m_c])"
   ]
  },
  {
   "cell_type": "code",
   "execution_count": 130,
   "id": "c771fd2d-138a-48b5-af34-693330e18b6b",
   "metadata": {},
   "outputs": [
    {
     "data": {
      "image/png": "[encoded data removed]",
      "text/plain": [
       "38.4357446808511"
      ]
     },
     "execution_count": 130,
     "metadata": {},
     "output_type": "execute_result"
    }
   ],
   "source": [
    "soln[m_g]"
   ]
  },
  {
   "cell_type": "code",
   "execution_count": 131,
   "id": "ecd70556-b292-4c52-b30b-c035342713af",
   "metadata": {},
   "outputs": [
    {
     "data": {
      "image/png": "[encoded data removed]",
      "text/plain": [
       "25.1642553191489"
      ]
     },
     "execution_count": 131,
     "metadata": {},
     "output_type": "execute_result"
    }
   ],
   "source": [
    "soln[m_c]"
   ]
  },
  {
   "cell_type": "code",
   "execution_count": 132,
   "id": "8744730b-53b3-497b-a0a4-b2b201c1da40",
   "metadata": {},
   "outputs": [
    {
     "data": {
      "image/png": "[encoded data removed]",
      "text/plain": [
       "2212.21810220976"
      ]
     },
     "execution_count": 132,
     "metadata": {},
     "output_type": "execute_result"
    }
   ],
   "source": [
    "soln[m_g] * v_g "
   ]
  },
  {
   "cell_type": "markdown",
   "id": "445ac4ad-dddc-40ee-a155-a2a1c9c7d25a",
   "metadata": {},
   "source": [
    " Scuba divers typically wear a neoprene wetsuit as insulation against the cooling effect of the water in which they are submerged. Unfortunately, the tiny pockets of trapped air in the neoprene that provide thermal insulation cause the neoprene to be quite buoyant. So divers also need to wear lead weight to allow their wetsuit to sink. A certain neoprene wetsuit has a mass of 3.37 kg and requires 8.08 kg of lead to allow it to sink in seawater. Find the density, in g/cc, of the neoprene. (The density of lead is 11.3 g/cc, and the density of seawater is 1.03 g/cc.)\n"
   ]
  },
  {
   "cell_type": "code",
   "execution_count": null,
   "id": "f0fd697c-f756-48e9-97f5-c487c517664c",
   "metadata": {},
   "outputs": [],
   "source": []
  }
 ],
 "metadata": {
  "kernelspec": {
   "display_name": "Python 3 (ipykernel)",
   "language": "python",
   "name": "python3"
  },
  "language_info": {
   "codemirror_mode": {
    "name": "ipython",
    "version": 3
   },
   "file_extension": ".py",
   "mimetype": "text/x-python",
   "name": "python",
   "nbconvert_exporter": "python",
   "pygments_lexer": "ipython3",
   "version": "3.13.5"
  }
 },
 "nbformat": 4,
 "nbformat_minor": 5
}
