{
 "cells": [
  {
   "cell_type": "code",
   "execution_count": 41,
   "id": "e8e9a7ee-b4e4-4f6a-821f-082b1734f997",
   "metadata": {},
   "outputs": [],
   "source": [
    "from sympy import *"
   ]
  },
  {
   "cell_type": "code",
   "execution_count": 42,
   "id": "bad6aef2-dd88-421c-9a76-ec5c11af02fb",
   "metadata": {},
   "outputs": [],
   "source": [
    "g = 9.8\n",
    "rho_w = 1000 # kg / m^3"
   ]
  },
  {
   "cell_type": "markdown",
   "id": "dd8f7bb8-f80e-4d86-94d9-ec62c3a1b19b",
   "metadata": {},
   "source": [
    "# Question 3\n",
    "\n",
    "A slab of wood, 11.0 cm thick, floats in water with 2.87 cm of its height above the water line. When the same slab of wood floats in an unknown liquid, 3.68 cm of the wood is above the waterline. Find the density, in g/cc, of the unknown liquid. "
   ]
  },
  {
   "cell_type": "code",
   "execution_count": 53,
   "id": "22f20423-8aa6-44da-a3c6-1725e1c39b77",
   "metadata": {},
   "outputs": [
    {
     "data": {
      "text/plain": [
       "(rho_u, V_w, m_w, rho_wood)"
      ]
     },
     "execution_count": 53,
     "metadata": {},
     "output_type": "execute_result"
    }
   ],
   "source": [
    "w = 11 / 100 # M\n",
    "h_w = 2.85 / 100\n",
    "h_u = 3.69 / 100\n",
    "var('rho_u V_w m_w rho_wood')"
   ]
  },
  {
   "cell_type": "code",
   "execution_count": 54,
   "id": "20e5857c-a1d6-4e9e-a4ed-4a24978b2618",
   "metadata": {},
   "outputs": [],
   "source": [
    "B_w = rho_w * V * g \n",
    "B_u = rho_u * V * g \n",
    "m_w = rho_wood * V\n",
    "h_w_expr = Eq(g * m_w, B_w.subs(V, V / w * (w - h_w)))"
   ]
  },
  {
   "cell_type": "code",
   "execution_count": 55,
   "id": "44f7e97d-8fb4-4625-a4ef-5a3c67bf311e",
   "metadata": {},
   "outputs": [],
   "source": [
    "h_u_expr = Eq(g * m_w, B_u.subs(V, V / w * (w - h_u)))"
   ]
  },
  {
   "cell_type": "code",
   "execution_count": 56,
   "id": "613ba0d6-069d-4637-95a0-2ba991aa183a",
   "metadata": {},
   "outputs": [
    {
     "data": {
      "text/plain": [
       "{rho_u: 1114.91108071135, rho_wood: 740.909090909091}"
      ]
     },
     "execution_count": 56,
     "metadata": {},
     "output_type": "execute_result"
    }
   ],
   "source": [
    "solns = solve([h_w_expr, h_u_expr], [rho_u, rho_wood])\n",
    "solns"
   ]
  },
  {
   "cell_type": "code",
   "execution_count": 57,
   "id": "9751d8ee-56f0-49bd-a33a-d2a85f4e679a",
   "metadata": {},
   "outputs": [
    {
     "data": {
      "text/latex": [
       "$\\displaystyle 1.11491108071135$"
      ],
      "text/plain": [
       "1.11491108071135"
      ]
     },
     "execution_count": 57,
     "metadata": {},
     "output_type": "execute_result"
    }
   ],
   "source": [
    "solns[rho_u] / 1000"
   ]
  },
  {
   "cell_type": "markdown",
   "id": "afbe22df-1702-40e0-874c-332172466f64",
   "metadata": {},
   "source": [
    "# Problem 4\n",
    "\n",
    "A bracelet is made of a mixture of gold and copper (this is common for gold jewelry), and has a mass of 64 grams. When the bracelet is hung by a string attached to a scale and submerged in water, the scale reads 58.8 grams. Find the value of the gold, in dollars, contained in the bracelet. (The densities of gold and copper are 19.3 g/cc and 8.96 g/cc, respectively. The current price of gold is \\\\$1790 per ounce, which is \\\\$57.60 per gram.) "
   ]
  },
  {
   "cell_type": "code",
   "execution_count": 96,
   "id": "c095a1ea-6d2f-481f-9b98-6ea1f9b03d4c",
   "metadata": {},
   "outputs": [],
   "source": [
    "m = 64 / 1000 # kg\n",
    "m_w = 58.8 / 1000 # kg\n",
    "rho_g = 19.3 / 1000 # kg / m^3\n",
    "rho_c = 8.96 / 1000 # kg / m^3\n",
    "p_g = 1790 # Price\n",
    "p_c = 57.60 # Price"
   ]
  },
  {
   "cell_type": "code",
   "execution_count": 97,
   "id": "d72c5fea-7713-4cc6-83c8-047dbfbe07bd",
   "metadata": {},
   "outputs": [],
   "source": [
    "def B(rho_f, V):\n",
    "    return rho_f * V * g"
   ]
  },
  {
   "cell_type": "code",
   "execution_count": 105,
   "id": "b6f7e4c2-a6af-4a4f-b633-1798b482cdf5",
   "metadata": {},
   "outputs": [
    {
     "data": {
      "text/plain": [
       "(m_g, m_c)"
      ]
     },
     "execution_count": 105,
     "metadata": {},
     "output_type": "execute_result"
    }
   ],
   "source": [
    "B_b = B(rho_w, V)\n",
    "V_b = solve((m * g - B_b) - m_w, V)[0]\n",
    "\n",
    "var('m_g m_c')"
   ]
  },
  {
   "cell_type": "code",
   "execution_count": 106,
   "id": "ff5aa7db-75f9-41ff-a575-fce8c8f091aa",
   "metadata": {},
   "outputs": [
    {
     "data": {
      "text/latex": [
       "$\\displaystyle 0.058$"
      ],
      "text/plain": [
       "0.0580000000000000"
      ]
     },
     "execution_count": 106,
     "metadata": {},
     "output_type": "execute_result"
    }
   ],
   "source": [
    "V_b * 1000"
   ]
  },
  {
   "cell_type": "code",
   "execution_count": 99,
   "id": "4d629721-2e18-47c9-ba39-094eeef7f34b",
   "metadata": {},
   "outputs": [],
   "source": [
    "V_m = m_g / rho_g + m_c / rho_c\n",
    "m_expr = m_g + m_c - m"
   ]
  },
  {
   "cell_type": "code",
   "execution_count": 100,
   "id": "77cbfa25-3142-4618-ba60-f0e4fedf378b",
   "metadata": {},
   "outputs": [
    {
     "data": {
      "text/plain": [
       "{m_c: -0.0554573435791103, m_g: 0.119457343579110}"
      ]
     },
     "execution_count": 100,
     "metadata": {},
     "output_type": "execute_result"
    }
   ],
   "source": [
    "solve([V_m - V_b, m_expr], [m_c, m_g])"
   ]
  },
  {
   "cell_type": "code",
   "execution_count": null,
   "id": "79d499a2-54f8-477b-b878-5f75a352d517",
   "metadata": {},
   "outputs": [],
   "source": []
  }
 ],
 "metadata": {
  "kernelspec": {
   "display_name": "Python 3 (ipykernel)",
   "language": "python",
   "name": "python3"
  },
  "language_info": {
   "codemirror_mode": {
    "name": "ipython",
    "version": 3
   },
   "file_extension": ".py",
   "mimetype": "text/x-python",
   "name": "python",
   "nbconvert_exporter": "python",
   "pygments_lexer": "ipython3",
   "version": "3.13.7"
  }
 },
 "nbformat": 4,
 "nbformat_minor": 5
}
